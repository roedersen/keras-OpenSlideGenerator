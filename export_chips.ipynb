{
 "cells": [
  {
   "cell_type": "code",
   "execution_count": 1,
   "metadata": {},
   "outputs": [],
   "source": [
    "from matplotlib import pyplot as plt\n",
    "%matplotlib inline\n",
    "import time\n",
    "import openslide\n",
    "import openslide_generator\n",
    "import importlib\n",
    "importlib.reload(openslide_generator)\n",
    "from PIL import Image\n",
    "import numpy as np"
   ]
  },
  {
   "cell_type": "code",
   "execution_count": 2,
   "metadata": {},
   "outputs": [
    {
     "name": "stdout",
     "output_type": "stream",
     "text": [
      "loaded 1 slide(s).\n",
      "[0] center_2/patient_044_node_4.tif\n",
      "- 7 regions\n",
      "- 2089490709.379868 px2\n",
      "- patch scale: 512\n",
      "- fetch probability (area mode): 1.0\n",
      "there are total 7 regions.\n",
      "patches per epoch is set to 7970.\n",
      "\n"
     ]
    }
   ],
   "source": [
    "gen_train = openslide_generator.OpenSlideGenerator(\n",
    "        'C:/Users/arno/Documents/fourthbrain/capstone/data/labels/labels_20220506_pred.txt', \n",
    "        'C:/Users/arno/Documents/fourthbrain/capstone/data/training/', 512, 256, fetch_mode='label-slide', label_to_use=0)"
   ]
  },
  {
   "cell_type": "code",
   "execution_count": 4,
   "metadata": {},
   "outputs": [],
   "source": [
    "healthy = 0\n",
    "metastase = 0\n",
    "for i in range(250):\n",
    "    image, label, (slide_id, region_id, posx, posy) = gen_train.get_example(i)\n",
    "    if int(label) == 0:\n",
    "        healthy += 1\n",
    "        Image.fromarray((image * 255).astype(np.uint8)).convert('RGB').save(\"C:/Users/arno/Documents/fourthbrain/capstone/data/chips/\" + str(int(label)) + \"_\" + str(healthy) + \".png\")\n",
    "    else:\n",
    "        metastase += 1\n",
    "        Image.fromarray((image * 255).astype(np.uint8)).convert('RGB').save(\"C:/Users/arno/Documents/fourthbrain/capstone/data/chips/\" + str(int(label)) + \"_\" + str(metastase) + \".png\")\n",
    "\n",
    "    "
   ]
  }
 ],
 "metadata": {
  "interpreter": {
   "hash": "dc714d32b4640f71bab676929d9c221709ff267d8d7460f6c27a6f17c26bc8f8"
  },
  "kernelspec": {
   "display_name": "Python 3.9.7 ('capstone')",
   "language": "python",
   "name": "python3"
  },
  "language_info": {
   "codemirror_mode": {
    "name": "ipython",
    "version": 3
   },
   "file_extension": ".py",
   "mimetype": "text/x-python",
   "name": "python",
   "nbconvert_exporter": "python",
   "pygments_lexer": "ipython3",
   "version": "3.9.7"
  },
  "orig_nbformat": 4
 },
 "nbformat": 4,
 "nbformat_minor": 2
}
