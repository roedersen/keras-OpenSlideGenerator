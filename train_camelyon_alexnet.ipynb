{
 "cells": [
  {
   "cell_type": "markdown",
   "metadata": {},
   "source": [
    "[![Open In Colab](https://colab.research.google.com/assets/colab-badge.svg)](https://colab.research.google.com/github/roedersen/keras-OpenSlideGenerator/blob/master/train_camyleon_resnet.ipynb)"
   ]
  },
  {
   "cell_type": "code",
   "execution_count": null,
   "metadata": {},
   "outputs": [],
   "source": [
    "!pip install tripy"
   ]
  },
  {
   "cell_type": "code",
   "execution_count": null,
   "metadata": {},
   "outputs": [],
   "source": [
    "!pip install pyclipper"
   ]
  },
  {
   "cell_type": "code",
   "execution_count": null,
   "metadata": {},
   "outputs": [],
   "source": [
    "!apt-get install openslide-tools"
   ]
  },
  {
   "cell_type": "code",
   "execution_count": null,
   "metadata": {},
   "outputs": [],
   "source": [
    "!pip install openslide-python"
   ]
  },
  {
   "cell_type": "code",
   "execution_count": null,
   "metadata": {},
   "outputs": [],
   "source": [
    "!git clone https://github.com/roedersen/keras-OpenSlideGenerator"
   ]
  },
  {
   "cell_type": "code",
   "execution_count": null,
   "metadata": {},
   "outputs": [],
   "source": [
    "from google.colab import drive\n",
    "drive.mount('/content/drive')\n",
    "labels = '/content/drive/MyDrive/Dokumente/FourthBrain/capstone/data/labels/'\n",
    "images = '/tmp/'"
   ]
  },
  {
   "cell_type": "code",
   "execution_count": null,
   "metadata": {},
   "outputs": [],
   "source": [
    "import sys\n",
    "sys.path.append(\"/content/keras-OpenSlideGenerator\")\n",
    "import openslide_generator"
   ]
  },
  {
   "cell_type": "code",
   "execution_count": null,
   "metadata": {},
   "outputs": [],
   "source": [
    "!cp /content/drive/MyDrive/CAMELYON17/training/center_1/patient_038.zip /tmp\n",
    "!unzip /tmp/patient_038.zip -d /tmp/center_1/"
   ]
  },
  {
   "cell_type": "code",
   "execution_count": null,
   "metadata": {},
   "outputs": [],
   "source": [
    "!cp /content/drive/MyDrive/CAMELYON17/training/center_2/patient_044.zip /tmp\n",
    "!unzip /tmp/patient_044.zip -d /tmp/center_2/"
   ]
  },
  {
   "cell_type": "code",
   "execution_count": null,
   "metadata": {},
   "outputs": [],
   "source": [
    "!cp /content/drive/MyDrive/CAMELYON17/training/center_4/patient_080.zip /tmp\n",
    "!unzip /tmp/patient_080.zip -d /tmp/center_4/"
   ]
  },
  {
   "cell_type": "code",
   "execution_count": null,
   "metadata": {},
   "outputs": [],
   "source": [
    "from matplotlib import cm\n",
    "from matplotlib import pyplot as plt\n",
    "import tensorflow as tf\n",
    "import tensorflow.keras\n",
    "from tensorflow.keras.layers import Activation\n",
    "from tensorflow.keras.optimizers import RMSprop\n",
    "import os\n",
    "import math\n",
    "import time\n",
    "import numpy as np\n",
    "from datetime import datetime\n",
    "import openslide_generator"
   ]
  },
  {
   "cell_type": "code",
   "execution_count": null,
   "metadata": {},
   "outputs": [],
   "source": [
    "from tensorflow.keras import Model\n",
    "from tensorflow.keras.models import Sequential\n",
    "from tensorflow.keras.layers import Dense, Flatten, Conv2D, MaxPooling2D, ReLU\n",
    "from tensorflow.keras.layers import BatchNormalization, Dropout, GlobalAveragePooling2D\n",
    "from tensorflow.keras.losses import categorical_crossentropy\n",
    "from tensorflow.keras.optimizers import Adam\n",
    "from tensorflow.keras.callbacks import EarlyStopping, ReduceLROnPlateau, LearningRateScheduler\n",
    "from tensorflow.keras.applications.xception import Xception"
   ]
  },
  {
   "cell_type": "code",
   "execution_count": null,
   "metadata": {},
   "outputs": [],
   "source": [
    "def plot_loss_history(training_history, logscale=False):\n",
    "    loss = training_history['loss']\n",
    "    val_loss = training_history['val_loss']\n",
    "    epochs = range(1, len(loss) + 1)\n",
    "    plt.plot(epochs, loss, color='red', label='Training loss')\n",
    "    plt.plot(epochs, val_loss, color='green', label='Validation loss')\n",
    "    plt.title('Training and validation loss')\n",
    "    plt.xlabel('Epochs')\n",
    "    plt.ylabel('Loss')\n",
    "    plt.legend()\n",
    "    if logscale:\n",
    "        plt.yscale('log')\n",
    "    plt.show()"
   ]
  },
  {
   "cell_type": "code",
   "execution_count": null,
   "metadata": {},
   "outputs": [],
   "source": [
    "def plot_accuracy_history(training_history):\n",
    "    acc = training_history['accuracy']\n",
    "    val_acc = training_history['val_accuracy']\n",
    "    epochs = range(1, len(acc) + 1)\n",
    "    plt.plot(epochs, acc, color='red', label='Training acc')\n",
    "    plt.plot(epochs, val_acc, color='green', label='Validation acc')\n",
    "    plt.title('Training and validation accuracy')\n",
    "    plt.xlabel('Epochs')\n",
    "    plt.ylabel('Accuracy')\n",
    "    plt.legend()\n",
    "    plt.show()"
   ]
  },
  {
   "cell_type": "code",
   "execution_count": null,
   "metadata": {},
   "outputs": [],
   "source": [
    "pixel = 227"
   ]
  },
  {
   "cell_type": "code",
   "execution_count": null,
   "metadata": {},
   "outputs": [],
   "source": [
    "gen_train = openslide_generator.OpenSlideGenerator(labels + 'labels_20220506_train.txt', \\\n",
    "                                                   images, 512, pixel, \\\n",
    "                                                   fetch_mode='label-slide', \\\n",
    "                                                   label_to_use=0)\n",
    "print(\"gen_train defined\")\n",
    "print(f'Shape of gen_train: {gen_train.shape()}')"
   ]
  },
  {
   "cell_type": "code",
   "execution_count": null,
   "metadata": {},
   "outputs": [],
   "source": [
    "\n",
    "gen_val = openslide_generator.OpenSlideGenerator(labels + 'labels_20220425_val.txt', \\\n",
    "                                                 images, 512, pixel, \\\n",
    "                                                 fetch_mode='label-slide', \\\n",
    "                                                 label_to_use=0)\n",
    "print(\"gen_val defined\")"
   ]
  },
  {
   "cell_type": "code",
   "execution_count": null,
   "metadata": {},
   "outputs": [],
   "source": [
    "batch_size = 3\n",
    "num_classes = len(gen_train.labels[gen_train.label_to_use])\n",
    "epochs = 1\n",
    "data_augmentation = False\n",
    "num_predictions = 20\n",
    "t_steps = math.ceil(gen_train.patch_per_epoch/batch_size)\n",
    "v_steps = math.ceil(gen_val.patch_per_epoch/batch_size)"
   ]
  },
  {
   "cell_type": "code",
   "execution_count": null,
   "metadata": {},
   "outputs": [],
   "source": [
    "\n",
    "class AlexNet(Sequential):\n",
    "    def __init__(self, input_shape, num_classes):\n",
    "        super().__init__()\n",
    "\n",
    "        self.add(Conv2D(96, kernel_size=(11, 11), strides= 4,\n",
    "                        padding='valid', activation='relu',\n",
    "                        input_shape= input_shape, kernel_initializer='he_normal'))\n",
    "        self.add(BatchNormalization())\n",
    "        self.add(MaxPooling2D(pool_size=(3, 3), strides= (2, 2),\n",
    "                              padding='valid', data_format=None))\n",
    "\n",
    "\n",
    "        self.add(Conv2D(256, kernel_size=(5, 5), strides= 1,\n",
    "                        padding='same', activation='relu',\n",
    "                        kernel_initializer='he_normal'))\n",
    "        self.add(BatchNormalization())\n",
    "        self.add(MaxPooling2D(pool_size=(3, 3), strides= (2, 2),\n",
    "                              padding='valid', data_format=None)) \n",
    "\n",
    "\n",
    "        self.add(Conv2D(384, kernel_size=(3, 3), strides= 1,\n",
    "                        padding='same', activation='relu',\n",
    "                        kernel_initializer='he_normal'))\n",
    "        self.add(BatchNormalization())\n",
    "\n",
    "        self.add(Conv2D(384, kernel_size=(3, 3), strides= 1,\n",
    "                        padding='same', activation='relu',\n",
    "                        kernel_initializer='he_normal'))\n",
    "        self.add(BatchNormalization())\n",
    "\n",
    "        self.add(Conv2D(256, kernel_size=(3, 3), strides= 1,\n",
    "                        padding='same', activation='relu',\n",
    "                        kernel_initializer='he_normal'))\n",
    "        self.add(BatchNormalization())\n",
    "\n",
    "        self.add(MaxPooling2D(pool_size=(3, 3), strides=(2, 2),\n",
    "                              padding='valid', data_format=None))\n",
    "\n",
    "\n",
    "        self.add(Flatten())\n",
    "\n",
    "        self.add(Dropout(0.1))\n",
    "\n",
    "        self.add(Dense(100))\n",
    "\n",
    "        self.add(Dense(num_classes, activation='sigmoid'))\n",
    "\n",
    "        self.compile(optimizer=Adam(learning_rate=1.0e-04),\n",
    "                    loss='binary_crossentropy',\n",
    "                    metrics=['accuracy'])"
   ]
  },
  {
   "cell_type": "code",
   "execution_count": null,
   "metadata": {},
   "outputs": [],
   "source": [
    "alexnet = AlexNet(input_shape=gen_train.shape(), num_classes=num_classes)"
   ]
  },
  {
   "cell_type": "code",
   "execution_count": null,
   "metadata": {},
   "outputs": [],
   "source": [
    "training_alexnet = alexnet.fit(gen_train.flow(batch_size=batch_size), \\\n",
    "    steps_per_epoch=t_steps, \\\n",
    "    validation_data=gen_val.flow(batch_size=batch_size), \\\n",
    "    validation_steps=v_steps, \\\n",
    "    workers=16, \\\n",
    "    use_multiprocessing=True, \\\n",
    "    verbose=1)"
   ]
  },
  {
   "cell_type": "code",
   "execution_count": null,
   "metadata": {},
   "outputs": [],
   "source": [
    "now = datetime.now()\n",
    "alexnet.save('/content/drive/MyDrive/Dokumente/FourthBrain/capstone/model/alexnet_' + str(now.strftime(\"%Y%m%d_%H%M\")),save_format='tf')\n",
    "print('Saved trained model')"
   ]
  },
  {
   "cell_type": "code",
   "execution_count": null,
   "metadata": {},
   "outputs": [],
   "source": [
    "plot_accuracy_history(training_alexnet.history)\n",
    "plot_loss_history(training_alexnet.history)\n",
    "plot_loss_history(training_alexnet.history, logscale=True)"
   ]
  }
 ],
 "metadata": {
  "language_info": {
   "name": "python"
  },
  "orig_nbformat": 4
 },
 "nbformat": 4,
 "nbformat_minor": 2
}
